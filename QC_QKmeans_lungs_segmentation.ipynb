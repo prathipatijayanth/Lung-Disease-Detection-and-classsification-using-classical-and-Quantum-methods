{
  "nbformat": 4,
  "nbformat_minor": 0,
  "metadata": {
    "colab": {
      "provenance": [],
      "gpuType": "T4"
    },
    "kernelspec": {
      "name": "python3",
      "display_name": "Python 3"
    },
    "language_info": {
      "name": "python"
    },
    "accelerator": "GPU",
    "gpuClass": "standard"
  },
  "cells": [
    {
      "cell_type": "code",
      "execution_count": null,
      "metadata": {
        "colab": {
          "base_uri": "https://localhost:8080/"
        },
        "id": "yWVAwa4sa8tB",
        "outputId": "415bebf4-f910-406c-92d8-8a82e7cbc6d7"
      },
      "outputs": [
        {
          "output_type": "stream",
          "name": "stdout",
          "text": [
            "Looking in indexes: https://pypi.org/simple, https://us-python.pkg.dev/colab-wheels/public/simple/\n",
            "Collecting pennylane\n",
            "  Downloading PennyLane-0.30.0-py3-none-any.whl (1.4 MB)\n",
            "\u001b[2K     \u001b[90m━━━━━━━━━━━━━━━━━━━━━━━━━━━━━━━━━━━━━━━━\u001b[0m \u001b[32m1.4/1.4 MB\u001b[0m \u001b[31m26.9 MB/s\u001b[0m eta \u001b[36m0:00:00\u001b[0m\n",
            "\u001b[?25hRequirement already satisfied: numpy<1.24 in /usr/local/lib/python3.10/dist-packages (from pennylane) (1.22.4)\n",
            "Requirement already satisfied: scipy in /usr/local/lib/python3.10/dist-packages (from pennylane) (1.10.1)\n",
            "Requirement already satisfied: networkx in /usr/local/lib/python3.10/dist-packages (from pennylane) (3.1)\n",
            "Collecting rustworkx (from pennylane)\n",
            "  Downloading rustworkx-0.12.1-cp310-cp310-manylinux_2_17_x86_64.manylinux2014_x86_64.whl (1.9 MB)\n",
            "\u001b[2K     \u001b[90m━━━━━━━━━━━━━━━━━━━━━━━━━━━━━━━━━━━━━━━━\u001b[0m \u001b[32m1.9/1.9 MB\u001b[0m \u001b[31m70.8 MB/s\u001b[0m eta \u001b[36m0:00:00\u001b[0m\n",
            "\u001b[?25hRequirement already satisfied: autograd in /usr/local/lib/python3.10/dist-packages (from pennylane) (1.5)\n",
            "Requirement already satisfied: toml in /usr/local/lib/python3.10/dist-packages (from pennylane) (0.10.2)\n",
            "Requirement already satisfied: appdirs in /usr/local/lib/python3.10/dist-packages (from pennylane) (1.4.4)\n",
            "Collecting semantic-version>=2.7 (from pennylane)\n",
            "  Downloading semantic_version-2.10.0-py2.py3-none-any.whl (15 kB)\n",
            "Collecting autoray>=0.3.1 (from pennylane)\n",
            "  Downloading autoray-0.6.3-py3-none-any.whl (48 kB)\n",
            "\u001b[2K     \u001b[90m━━━━━━━━━━━━━━━━━━━━━━━━━━━━━━━━━━━━━━━━\u001b[0m \u001b[32m48.3/48.3 kB\u001b[0m \u001b[31m7.1 MB/s\u001b[0m eta \u001b[36m0:00:00\u001b[0m\n",
            "\u001b[?25hRequirement already satisfied: cachetools in /usr/local/lib/python3.10/dist-packages (from pennylane) (5.3.0)\n",
            "Collecting pennylane-lightning>=0.30 (from pennylane)\n",
            "  Downloading PennyLane_Lightning-0.30.0-cp310-cp310-manylinux_2_17_x86_64.manylinux2014_x86_64.whl (16.6 MB)\n",
            "\u001b[2K     \u001b[90m━━━━━━━━━━━━━━━━━━━━━━━━━━━━━━━━━━━━━━━━\u001b[0m \u001b[32m16.6/16.6 MB\u001b[0m \u001b[31m69.3 MB/s\u001b[0m eta \u001b[36m0:00:00\u001b[0m\n",
            "\u001b[?25hRequirement already satisfied: requests in /usr/local/lib/python3.10/dist-packages (from pennylane) (2.27.1)\n",
            "Requirement already satisfied: future>=0.15.2 in /usr/local/lib/python3.10/dist-packages (from autograd->pennylane) (0.18.3)\n",
            "Requirement already satisfied: urllib3<1.27,>=1.21.1 in /usr/local/lib/python3.10/dist-packages (from requests->pennylane) (1.26.15)\n",
            "Requirement already satisfied: certifi>=2017.4.17 in /usr/local/lib/python3.10/dist-packages (from requests->pennylane) (2022.12.7)\n",
            "Requirement already satisfied: charset-normalizer~=2.0.0 in /usr/local/lib/python3.10/dist-packages (from requests->pennylane) (2.0.12)\n",
            "Requirement already satisfied: idna<4,>=2.5 in /usr/local/lib/python3.10/dist-packages (from requests->pennylane) (3.4)\n",
            "Installing collected packages: semantic-version, rustworkx, autoray, pennylane-lightning, pennylane\n",
            "Successfully installed autoray-0.6.3 pennylane-0.30.0 pennylane-lightning-0.30.0 rustworkx-0.12.1 semantic-version-2.10.0\n"
          ]
        }
      ],
      "source": [
        "!pip install pennylane"
      ]
    },
    {
      "cell_type": "code",
      "source": [
        "import pennylane as qml\n",
        "from pennylane import numpy as np"
      ],
      "metadata": {
        "id": "HOSEjYhImHbA"
      },
      "execution_count": null,
      "outputs": []
    },
    {
      "cell_type": "code",
      "source": [
        "%matplotlib inline\n",
        "import seaborn as sns; sns.set()  # for plot styling\n",
        "import itertools\n",
        "import random\n",
        "\n",
        "from typing import Dict, Optional, Union, List\n",
        "from collections import defaultdict\n",
        "import matplotlib.pyplot as plt\n",
        "import sys\n",
        "import math\n",
        "import random\n",
        "import cv2\n",
        "from IPython.display import Image\n",
        "\n",
        "\n",
        "\n",
        "\n",
        "np.warnings.filterwarnings('ignore')"
      ],
      "metadata": {
        "id": "kehu79ZNcjRN"
      },
      "execution_count": null,
      "outputs": []
    },
    {
      "cell_type": "code",
      "source": [
        "img = cv2.imread('', cv2.IMREAD_GRAYSCALE)\n",
        "print(img)\n",
        "img= cv2.resize(img,(128, 128))\n",
        "print(img.shape)\n",
        "plt.figure(figsize=(6, 6))\n",
        "plt.grid(False)\n",
        "plt.imshow(img)\n",
        "pixel_values = img.reshape((-1, 1))\n",
        "print(pixel_values.shape)\n",
        "pixel_values = np.float32(pixel_values)"
      ],
      "metadata": {
        "colab": {
          "base_uri": "https://localhost:8080/",
          "height": 687
        },
        "id": "9XXZdlRsclbz",
        "outputId": "f6e33db1-b270-4867-9f13-8956d3fbc269"
      },
      "execution_count": null,
      "outputs": [
        {
          "output_type": "stream",
          "name": "stdout",
          "text": [
            "[[19 19 18 ...  1  0  0]\n",
            " [19 19 18 ...  1  0  0]\n",
            " [19 19 18 ...  1  0  0]\n",
            " ...\n",
            " [10 10 10 ... 15 15 15]\n",
            " [10 10 10 ... 15 15 15]\n",
            " [10 10 10 ... 15 15 15]]\n",
            "(128, 128)\n",
            "(16384, 1)\n"
          ]
        },
        {
          "output_type": "display_data",
          "data": {
            "text/plain": [
              "<Figure size 600x600 with 1 Axes>"
            ],
            "image/png": "[encoded data removed]"
          },
          "metadata": {}
        }
      ]
    },
    {
      "cell_type": "code",
      "execution_count": null,
      "metadata": {
        "id": "AhclUk2c61ut"
      },
      "outputs": [],
      "source": [
        "k_clusters=3\n",
        "batch_size=32\n",
        "num_qubits_centroid = math.ceil(math.log2(k_clusters))\n",
        "num_qubits_train = math.ceil(math.log2(len(pixel_values)))-math.ceil(math.log2(batch_size))\n",
        "centroid_comp_basis_states = list(itertools.product(['0', '1'], repeat=num_qubits_centroid))\n",
        "train_comp_basis_states = list(itertools.product(['0', '1'], repeat=num_qubits_train))"
      ]
    },
    {
      "cell_type": "code",
      "source": [
        "print(len(pixel_values))"
      ],
      "metadata": {
        "colab": {
          "base_uri": "https://localhost:8080/"
        },
        "id": "KHDh5sEZda0V",
        "outputId": "a717c417-fd7b-481e-acff-73b0db111927"
      },
      "execution_count": null,
      "outputs": [
        {
          "output_type": "stream",
          "name": "stdout",
          "text": [
            "16384\n"
          ]
        }
      ]
    },
    {
      "cell_type": "code",
      "source": [
        "dev_dist_calc = qml.device(\"lightning.qubit\", wires=num_qubits_train+num_qubits_centroid+3, shots=1000000)"
      ],
      "metadata": {
        "id": "W6wIrjAHdh0-"
      },
      "execution_count": null,
      "outputs": []
    },
    {
      "cell_type": "code",
      "source": [
        "def where_to_apply_x(bin_number_length: int) -> List:\n",
        "\n",
        "    indices=[]\n",
        "    powers_of_two = 2 ** np.arange(bin_number_length)\n",
        "    for pos in range(2**bin_number_length):\n",
        "        temp=[]\n",
        "        for ind, v in enumerate(powers_of_two):\n",
        "            if v & (pos ^ (pos - 1)) == v:\n",
        "                temp.append(ind)\n",
        "        indices.append(temp)\n",
        "    #indices = [[ind for ind, v in enumerate(powers_of_two) if v & (pos ^ (pos - 1)) == v] for pos in range(2 ** bin_number_length)]\n",
        "    return indices"
      ],
      "metadata": {
        "id": "AFeYdM1uddCe"
      },
      "execution_count": null,
      "outputs": []
    },
    {
      "cell_type": "code",
      "source": [
        "#@title\n",
        "def layer(param, control_wires, target_wires):\n",
        "    param=param/255*np.pi\n",
        "    qml.MultiControlledX(control_wires, target_wires)\n",
        "    qml.RY(-1*param/2, target_wires)\n",
        "    qml.MultiControlledX(control_wires, target_wires)\n",
        "    qml.RY(param/2, target_wires)"
      ],
      "metadata": {
        "id": "hKDuueIOdrED"
      },
      "execution_count": null,
      "outputs": []
    },
    {
      "cell_type": "code",
      "source": [
        "#@title\n",
        "@qml.qnode(dev_dist_calc)\n",
        "def distance_circuit(data, centroids):\n",
        "    \n",
        "    ctrl_wires_training=[i for i in range(2,2+math.ceil(math.log2(len(data))))]\n",
        "    train_bin_number_length = len(ctrl_wires_training)\n",
        "    where_x_train = where_to_apply_x(train_bin_number_length)\n",
        "\n",
        "    for i in range(2,2+math.ceil(math.log2(len(data)))):\n",
        "        qml.Hadamard(wires=i)\n",
        "    for i in range(2**train_bin_number_length):\n",
        "        for j in where_x_train[i]:\n",
        "            qml.PauliX(2+train_bin_number_length-1-j)\n",
        "        if i<len(data):\n",
        "            layer(data[i][0], ctrl_wires_training, [1])\n",
        "\n",
        "    if len(centroids)>1:\n",
        "        ctrl_wires_centroids=[i for i in range(2+math.ceil(math.log2(len(data)))+1,2+math.ceil(math.log2(len(data)))+1+math.ceil(math.log2(len(centroids))))]\n",
        "        centroid_bin_number_length = len(ctrl_wires_centroids)\n",
        "        where_x_centroids = where_to_apply_x(centroid_bin_number_length)\n",
        "\n",
        "        for i in range(2+math.ceil(math.log2(len(data)))+1, 2+math.ceil(math.log2(len(data)))+1+math.ceil(math.log2(len(centroids)))):\n",
        "            qml.Hadamard(wires=i)\n",
        "        for i in range(2**centroid_bin_number_length):\n",
        "            for j in where_x_centroids[i]:\n",
        "                qml.PauliX(2+train_bin_number_length+centroid_bin_number_length-j)\n",
        "            if i<len(centroids):\n",
        "                layer(centroids[i][0], ctrl_wires_centroids, [2+math.ceil(math.log2(len(data)))])\n",
        "    \n",
        "    else:\n",
        "        qml.PauliX([2+math.ceil(math.log2(len(data)))+1])\n",
        "        layer(centroids[0][0], [2+math.ceil(math.log2(len(data)))+1], [2+math.ceil(math.log2(len(data)))])\n",
        "        qml.PauliX([2+math.ceil(math.log2(len(data)))+1])\n",
        "    \n",
        "    qml.Hadamard(wires=[0])\n",
        "    qml.CSWAP(wires=[0,1,2+math.ceil(math.log2(len(data)))])\n",
        "    qml.Hadamard(wires=[0])\n",
        "\n",
        "    if len(centroids)>1:\n",
        "        return qml.counts(wires=[0]+ctrl_wires_training+ctrl_wires_centroids)\n",
        "    else:\n",
        "        return qml.counts(wires=[0]+ctrl_wires_training+[2+math.ceil(math.log2(len(data)))+1])"
      ],
      "metadata": {
        "id": "qHVIwtg3dsMu"
      },
      "execution_count": null,
      "outputs": []
    },
    {
      "cell_type": "code",
      "source": [
        "centroids=random.sample(list(pixel_values), k_clusters)\n",
        "print(centroids)"
      ],
      "metadata": {
        "colab": {
          "base_uri": "https://localhost:8080/"
        },
        "id": "manL5QAldtz6",
        "outputId": "f5f5b653-51c3-426b-f8fc-34ab39728cbc"
      },
      "execution_count": null,
      "outputs": [
        {
          "output_type": "stream",
          "name": "stdout",
          "text": [
            "[array([114.], dtype=float32), array([185.], dtype=float32), array([162.], dtype=float32)]\n"
          ]
        }
      ]
    },
    {
      "cell_type": "code",
      "source": [
        "def get_distance(data, centroids):\n",
        "    k=len(centroids)\n",
        "    all_counts=distance_circuit(data, centroids)\n",
        "    num_qubits_centroid_init=math.ceil(math.log2(len(centroids)))\n",
        "    if num_qubits_centroid_init==0:\n",
        "        centroid_comp_basis_states_init=[('0')]\n",
        "    else:\n",
        "        centroid_comp_basis_states_init = list(itertools.product(['0', '1'], repeat=num_qubits_centroid_init))\n",
        "    mixed_measurements = list(all_counts)\n",
        "    dist=[]\n",
        "    for c in centroid_comp_basis_states_init[:k]:\n",
        "        if k==1:\n",
        "            c=''.join(c[-1])\n",
        "        else:\n",
        "            c=''.join(c)\n",
        "        subsystems_counts = [defaultdict(int) for _ in range(2)]\n",
        "        for mixed_measurement in mixed_measurements:\n",
        "            subsystem_measurements = [mixed_measurement[0], mixed_measurement[1:1+num_qubits_train], mixed_measurement[1+num_qubits_train:]]\n",
        "            if subsystem_measurements[2]==c:\n",
        "                count=all_counts[mixed_measurement]\n",
        "                for k, d_l in zip([subsystem_measurements[0],subsystem_measurements[1]], subsystems_counts):\n",
        "                    d_l[k] += count\n",
        "\n",
        "\n",
        "        setup_counts=[dict(d) for d in subsystems_counts]\n",
        "        control_counts=setup_counts[0]\n",
        "        train_counts=setup_counts[1]\n",
        "        distances = np.zeros(len(data), dtype=float)\n",
        "\n",
        "        for comp_state in train_comp_basis_states[:len(data)]:\n",
        "            comp_state = ''.join(comp_state)\n",
        "            state_str_0 = '0'+comp_state+c\n",
        "            #state_str_1 = '1'+comp_state+c\n",
        "            p_0_i=all_counts.get(state_str_0,0) / train_counts[comp_state]\n",
        "            #p_1_i=all_counts.get(state_str_1,0) / train_counts[comp_state]\n",
        "            fidelity=(2*p_0_i)-1\n",
        "            index_state = int(comp_state, 2)\n",
        "            distances[index_state] = 1-fidelity\n",
        "\n",
        "        dist.append(distances)\n",
        "\n",
        "    return np.transpose(dist)"
      ],
      "metadata": {
        "id": "ONOXPo6jdwig"
      },
      "execution_count": null,
      "outputs": []
    },
    {
      "cell_type": "code",
      "source": [
        "def init_centroids_qunatum(data, k):\n",
        "    '''\n",
        "    initialized the centroids for K-means++\n",
        "    inputs:\n",
        "        data - numpy array of data points having shape (200, 2)\n",
        "        k - number of clusters\n",
        "    '''\n",
        "    ## initialize the centroids list and add\n",
        "    ## a randomly selected data point to the list\n",
        "    centroids = []\n",
        "    centroids.append(data[0, :])\n",
        "    print(centroids)\n",
        "    n_samples=len(data)\n",
        "    size=n_samples//batch_size\n",
        "    for c_id in range(k - 1): \n",
        "        print(c_id)\n",
        "        main_d=[]\n",
        "        for b in range(batch_size):\n",
        "            print(b)\n",
        "            ## initialize a list to store distances of data points from nearest centroid\n",
        "            sample_data=data[size*b:size*(b+1),:]\n",
        "            dist = get_distance(sample_data, centroids)\n",
        "            l=[]\n",
        "            for i in dist:\n",
        "                l.append(min(i))\n",
        "            main_d.append(l)\n",
        "\n",
        "        l=np.array(main_d)\n",
        "        ## select data point with maximum distance as our next centroid\n",
        "        probs = l/l.sum()\n",
        "        cumulative_probs = probs.cumsum()\n",
        "        r = np.random.rand()\n",
        "        print(len(probs))\n",
        "        for j, p in enumerate(cumulative_probs):\n",
        "            if np.isnan(p):\n",
        "              p=1\n",
        "            if r < p:\n",
        "                i = j\n",
        "                break\n",
        "        \n",
        "        centroids.append(pixel_values[i])\n",
        "        #centroids.append(next_centroid)\n",
        "        dist = []\n",
        "        print(centroids)\n",
        "        \n",
        "    return centroids"
      ],
      "metadata": {
        "id": "KRnqD_SkdzA1"
      },
      "execution_count": null,
      "outputs": []
    },
    {
      "cell_type": "code",
      "source": [
        "centroids=init_centroids_qunatum(pixel_values, k_clusters)\n",
        "converge=False\n",
        "print(centroids)"
      ],
      "metadata": {
        "colab": {
          "base_uri": "https://localhost:8080/"
        },
        "id": "9OlHzVIZd0f8",
        "outputId": "2cb32481-438a-4ccc-fcad-373a4152f4e6"
      },
      "execution_count": null,
      "outputs": [
        {
          "output_type": "stream",
          "name": "stdout",
          "text": [
            "[array([19.], dtype=float32)]\n",
            "0\n",
            "0\n",
            "1\n",
            "2\n",
            "3\n",
            "4\n",
            "5\n",
            "6\n",
            "7\n",
            "8\n",
            "9\n",
            "10\n",
            "11\n",
            "12\n",
            "13\n",
            "14\n",
            "15\n",
            "16\n",
            "17\n",
            "18\n",
            "19\n",
            "20\n",
            "21\n",
            "22\n",
            "23\n",
            "24\n",
            "25\n",
            "26\n",
            "27\n",
            "28\n",
            "29\n",
            "30\n",
            "31\n",
            "32\n",
            "[array([19.], dtype=float32), array([185.], dtype=float32)]\n",
            "1\n",
            "0\n",
            "1\n",
            "2\n",
            "3\n",
            "4\n",
            "5\n",
            "6\n",
            "7\n",
            "8\n",
            "9\n",
            "10\n",
            "11\n",
            "12\n",
            "13\n",
            "14\n",
            "15\n",
            "16\n",
            "17\n",
            "18\n",
            "19\n",
            "20\n",
            "21\n",
            "22\n",
            "23\n",
            "24\n",
            "25\n",
            "26\n",
            "27\n",
            "28\n",
            "29\n",
            "30\n",
            "31\n",
            "32\n",
            "[array([19.], dtype=float32), array([185.], dtype=float32), array([116.], dtype=float32)]\n",
            "[array([19.], dtype=float32), array([185.], dtype=float32), array([116.], dtype=float32)]\n"
          ]
        }
      ]
    },
    {
      "cell_type": "code",
      "source": [
        "print(len(pixel_values))"
      ],
      "metadata": {
        "colab": {
          "base_uri": "https://localhost:8080/"
        },
        "id": "8LqwKQw3YiC0",
        "outputId": "c5940975-4cdc-4538-8026-276366b30edb"
      },
      "execution_count": null,
      "outputs": [
        {
          "output_type": "stream",
          "name": "stdout",
          "text": [
            "16384\n"
          ]
        }
      ]
    },
    {
      "cell_type": "code",
      "source": [
        "i=0\n",
        "n_samples=len(pixel_values)\n",
        "size=n_samples//batch_size\n",
        "while not converge:\n",
        "    i+=1\n",
        "    labels=[]\n",
        "    for b in range(batch_size):\n",
        "        sample_data=pixel_values[size*b:size*(b+1),:]\n",
        "        distance=get_distance(sample_data, centroids)\n",
        "        for d in distance:\n",
        "            labels.append(np.argmin(d))\n",
        "\n",
        "    labels=np.array(labels)\n",
        "    new_centers = np.array([pixel_values[labels == i].mean(0) for i in range(k_clusters)])\n",
        "    new_centroids=(np.rint(new_centers)).astype(int)\n",
        "    if np.sum(np.abs(np.subtract(centroids, new_centroids)))<=15:\n",
        "        break\n",
        "    print(new_centroids)\n",
        "    centroids=new_centroids"
      ],
      "metadata": {
        "id": "66axcQv-YlyH"
      },
      "execution_count": null,
      "outputs": []
    },
    {
      "cell_type": "code",
      "source": [
        "print(i)"
      ],
      "metadata": {
        "id": "9f36UJyTYn43"
      },
      "execution_count": null,
      "outputs": []
    },
    {
      "cell_type": "code",
      "source": [
        "print(len(labels))\n",
        "print(centroids)"
      ],
      "metadata": {
        "id": "1T94VL3QYojC"
      },
      "execution_count": null,
      "outputs": []
    },
    {
      "cell_type": "code",
      "source": [
        "y_pred = labels.astype(int)\n",
        "labels = y_pred.flatten()\n",
        "segmented_image = centroids[labels.flatten()]\n",
        "segmented_image = segmented_image.reshape(img.shape)\n",
        "plt.figure(figsize=(6, 6))\n",
        "plt.imshow(segmented_image, cmap='Greys_r')\n",
        "plt.grid(False)\n",
        "plt.show()\n",
        "im = Image.fromarray(segmented_image)\n",
        "im.save(\"K_Means.jpg\")"
      ],
      "metadata": {
        "id": "TViqEF0WYqpS"
      },
      "execution_count": null,
      "outputs": []
    },
    {
      "cell_type": "code",
      "source": [
        "print(centroids)"
      ],
      "metadata": {
        "id": "h8m5as4lYtI0"
      },
      "execution_count": null,
      "outputs": []
    }
  ]
}